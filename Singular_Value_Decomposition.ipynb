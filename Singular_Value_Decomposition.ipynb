{
 "cells": [
  {
   "cell_type": "markdown",
   "metadata": {},
   "source": [
    "### Singular Value Decomposition (SVD)\n",
    "   \n",
    "Dimensionality reduction is the main goal of both PCA and SVD. However, SVD focuses on matrix factorization and, dfferently from PCA, can handle cases where data is missing The SVD of a matrix $X$ of dimension $(n,d)$ is:\n",
    "\n",
    "$X = UDV^T$\n",
    "\n",
    "where $U$ and $V$ are square orthogonal (i.e., $U^TU\\,=\\,V^TV\\,=\\,I_d$, with $I_d$ the identity matrix of shape $(d,n)$).\n",
    "\n",
    "Note that:\n",
    "- $I_d$ is not necessarily a squared matrix\n",
    "- The SVD of a matrix can be done for any matrix\n",
    "- SVD is different from the PCA decomposition.\n",
    "\n",
    "More information can be found [here](https://en.wikipedia.org/wiki/Singular_value_decomposition)."
   ]
  },
  {
   "cell_type": "markdown",
   "metadata": {
    "slideshow": {
     "slide_type": "-"
    }
   },
   "source": [
    "#### SVD Calculation"
   ]
  },
  {
   "cell_type": "code",
   "execution_count": 1,
   "metadata": {},
   "outputs": [
    {
     "name": "stdout",
     "output_type": "stream",
     "text": [
      "Original matrix (of shape: (4, 10)):\n",
      "[[0.37454012 0.95071431 0.73199394 0.59865848 0.15601864 0.15599452\n",
      "  0.05808361 0.86617615 0.60111501 0.70807258]\n",
      " [0.02058449 0.96990985 0.83244264 0.21233911 0.18182497 0.18340451\n",
      "  0.30424224 0.52475643 0.43194502 0.29122914]\n",
      " [0.61185289 0.13949386 0.29214465 0.36636184 0.45606998 0.78517596\n",
      "  0.19967378 0.51423444 0.59241457 0.04645041]\n",
      " [0.60754485 0.17052412 0.06505159 0.94888554 0.96563203 0.80839735\n",
      "  0.30461377 0.09767211 0.68423303 0.44015249]]\n",
      "\n",
      "U matrix (of shape: (4, 4)):\n",
      "[[-0.58200243 -0.46018451  0.28177358  0.60836423]\n",
      " [-0.43344428 -0.50797901 -0.15132486 -0.72882382]\n",
      " [-0.42826635  0.31259847 -0.82207696  0.20750806]\n",
      " [-0.53850456  0.65762431  0.47105616 -0.23590082]]\n",
      "\n",
      "D matrix (of shape: (4,)):\n",
      "[2.98081051 1.511071   0.58704473 0.47296868]\n",
      "\n",
      "V Transpose matrix (of shape: (10, 10)):\n",
      "[[-0.273787   -0.3775109  -0.31769415 -0.37182421 -0.29687593 -0.31597947\n",
      "  -0.13929981 -0.33695382 -0.38890373 -0.26678946]\n",
      " [ 0.26999823 -0.51251825 -0.41401905  0.23504996  0.4059566   0.40508663\n",
      "   0.05390964 -0.29130705  0.09206274 -0.11237527]\n",
      " [-0.19484351  0.1478021  -0.22014532  0.48097648  0.16419462 -0.42326083\n",
      "  -0.08573454 -0.36125761 -0.10337181  0.55293345]\n",
      " [ 0.41545759 -0.29556609 -0.24548866  0.13029356 -0.36103319 -0.14068445\n",
      "  -0.45843991  0.48240501  0.02622737  0.26284573]\n",
      " [ 0.04395651  0.25850892 -0.32467421 -0.47262525  0.65434229 -0.16535686\n",
      "  -0.26465247  0.26428315 -0.08054201  0.02393181]\n",
      " [-0.29377003  0.38857416 -0.39265769  0.01441721 -0.27188624  0.65446143\n",
      "  -0.23305923 -0.00723062 -0.18680526  0.12967032]\n",
      " [ 0.17629493  0.12549544 -0.48850268 -0.11649841 -0.19114444 -0.12247779\n",
      "   0.77107435  0.18865662 -0.02358096  0.13683641]\n",
      " [-0.6241362  -0.31403508 -0.04431615  0.31769309  0.18453902 -0.00737335\n",
      "   0.13549102  0.57246327 -0.12166824 -0.11814803]\n",
      " [-0.32116875 -0.01234006 -0.25349417 -0.12593358 -0.12228164 -0.11335251\n",
      "  -0.1005745  -0.06798798  0.87851317 -0.04748908]\n",
      " [-0.17194291 -0.39149665  0.23340633 -0.45193026  0.0461461   0.23141592\n",
      "   0.11307308 -0.02355675  0.01941377  0.69931853]]\n"
     ]
    }
   ],
   "source": [
    "# libraries\n",
    "import numpy as np\n",
    "from scipy.linalg import svd\n",
    "\n",
    "# define a matrix\n",
    "np.random.seed(42)\n",
    "A = np.random.rand(4,10)\n",
    "print(f\"Original matrix (of shape: {A.shape}):\")\n",
    "print(A)\n",
    "print()\n",
    "\n",
    "# SVD\n",
    "U, D, VT = svd(A)\n",
    "print(f\"U matrix (of shape: {U.shape}):\")\n",
    "print(U)\n",
    "print()\n",
    "print(f\"D matrix (of shape: {D.shape}):\")\n",
    "print(D)\n",
    "print()\n",
    "print(f\"V Transpose matrix (of shape: {VT.shape}):\")\n",
    "print(VT)"
   ]
  },
  {
   "cell_type": "markdown",
   "metadata": {},
   "source": [
    "#### SVD for Dimensionality Reduction\n",
    "\n",
    "Datasets with a large number of features (i.e., matrices of shape $(n, m)$, where $m\\geq n$) may be reduced so that only a smaller subset of features is selected. The result is a matrix with a lower rank that is said to approximate the original matrix.\n",
    "\n",
    "To do this we can perform an SVD operation on the original data and select the top $k$ largest singular values in the diagonal matrix. These columns can be selected from the diagonal matrix, while the rows can be selected from $V^T$."
   ]
  },
  {
   "cell_type": "code",
   "execution_count": 3,
   "metadata": {},
   "outputs": [
    {
     "name": "stdout",
     "output_type": "stream",
     "text": [
      "Reconstructed matrix (of shape: (4, 10)):\n",
      "[[0.28722729 1.01131118 0.83904522 0.48160808 0.23274129 0.26648781\n",
      "  0.20417551 0.78712722 0.61066753 0.54097931]\n",
      " [0.14648841 0.88115494 0.72826355 0.29998    0.07195905 0.0973089\n",
      "  0.13859685 0.65895454 0.4318029  0.43095446]\n",
      " [0.4770472  0.23983084 0.20999685 0.58569151 0.57074318 0.59471945\n",
      "  0.20329214 0.29254743 0.53995367 0.28749691]\n",
      " [0.70777927 0.09667485 0.09853853 0.83041795 0.87994532 0.90974542\n",
      "  0.27717219 0.25139477 0.71574483 0.3165759 ]]\n",
      "\n",
      "T matrix (reduced dimensionality) [U.dot(diagonal)] (of shape: (4, 2)):\n",
      "[[-1.73483895 -0.69537147]\n",
      " [-1.29201526 -0.76759235]\n",
      " [-1.27658085  0.47235849]\n",
      " [-1.60518005  0.99371702]]\n",
      "\n",
      "T matrix (reduced dimensionality) [A.dot(VT.T)] (of shape: (4, 2)):\n",
      "[[-1.73483895 -0.69537147]\n",
      " [-1.29201526 -0.76759235]\n",
      " [-1.27658085  0.47235849]\n",
      " [-1.60518005  0.99371702]]\n"
     ]
    }
   ],
   "source": [
    "# SVD\n",
    "U, D, VT = svd(A)\n",
    "\n",
    "# create m x n matrix of zeros\n",
    "diagonal = np.zeros((A.shape[0], A.shape[1]))\n",
    "\n",
    "# populate with (n, n) diagonal matrix\n",
    "diagonal[:A.shape[0], :A.shape[0]] = np.diag(D)\n",
    "\n",
    "# select the number of elements to retain\n",
    "n_elements = 2\n",
    "diagonal = diagonal[:, :n_elements]\n",
    "VT = VT[:n_elements, :]\n",
    "\n",
    "# reconstruct\n",
    "B = U.dot(diagonal.dot(VT))\n",
    "print(f\"Reconstructed matrix (of shape: {B.shape}):\")\n",
    "print(B)\n",
    "print()\n",
    "\n",
    "# transform\n",
    "T = U.dot(diagonal)\n",
    "print(f\"T matrix (reduced dimensionality) [U.dot(diagonal)] (of shape: {T.shape}):\")\n",
    "print(T)\n",
    "print()\n",
    "\n",
    "T = A.dot(VT.T)\n",
    "print(f\"T matrix (reduced dimensionality) [A.dot(VT.T)] (of shape: {T.shape}):\")\n",
    "print(T)"
   ]
  }
 ],
 "metadata": {
  "kernelspec": {
   "display_name": "Python 3 (ipykernel)",
   "language": "python",
   "name": "python3"
  },
  "language_info": {
   "codemirror_mode": {
    "name": "ipython",
    "version": 3
   },
   "file_extension": ".py",
   "mimetype": "text/x-python",
   "name": "python",
   "nbconvert_exporter": "python",
   "pygments_lexer": "ipython3",
   "version": "3.11.5"
  },
  "latex_envs": {
   "LaTeX_envs_menu_present": true,
   "autoclose": false,
   "autocomplete": true,
   "bibliofile": "biblio.bib",
   "cite_by": "apalike",
   "current_citInitial": 1,
   "eqLabelWithNumbers": true,
   "eqNumInitial": 1,
   "hotkeys": {
    "equation": "Ctrl-E",
    "itemize": "Ctrl-I"
   },
   "labels_anchors": false,
   "latex_user_defs": false,
   "report_style_numbering": false,
   "user_envs_cfg": false
  }
 },
 "nbformat": 4,
 "nbformat_minor": 1
}
